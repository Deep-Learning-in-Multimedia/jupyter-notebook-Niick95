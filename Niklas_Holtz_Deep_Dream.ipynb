{
  "nbformat": 4,
  "nbformat_minor": 0,
  "metadata": {
    "colab": {
      "name": "Niklas_Holtz_Deep_Dream.ipynb",
      "provenance": [],
      "collapsed_sections": [],
      "authorship_tag": "ABX9TyMF627xP5v6JoKS5SM7L1sy",
      "include_colab_link": true
    },
    "kernelspec": {
      "name": "python3",
      "display_name": "Python 3"
    }
  },
  "cells": [
    {
      "cell_type": "markdown",
      "metadata": {
        "id": "view-in-github",
        "colab_type": "text"
      },
      "source": [
        "<a href=\"https://colab.research.google.com/github/Deep-Learning-in-Multimedia/jupyter-notebook-Niick95/blob/master/Niklas_Holtz_Deep_Dream.ipynb\" target=\"_parent\"><img src=\"https://colab.research.google.com/assets/colab-badge.svg\" alt=\"Open In Colab\"/></a>"
      ]
    },
    {
      "cell_type": "markdown",
      "metadata": {
        "id": "ruZT76BhQh1r",
        "colab_type": "text"
      },
      "source": [
        " # Deep Dream\n",
        " \n",
        " A 'Deep Learning in Multimedia' Project by Niklas Holtz (Master Informatik).\n",
        " \n",
        " ## What is Deep Dream?\n",
        " \n",
        "DeepDream is a computer vision program created by Google engineer Alexander Mordvintsev which uses a convolutional neural network to find and enhance patterns in images via algorithmic pareidolia, thus creating a dream-like hallucinogenic appearance in the deliberately over-processed images.\n",
        " \n",
        " ## Goals / Milestones\n",
        " \n",
        " This is another test\n",
        " \n",
        " "
      ]
    },
    {
      "cell_type": "code",
      "metadata": {
        "id": "Tgtery4JThIY",
        "colab_type": "code",
        "colab": {}
      },
      "source": [
        ""
      ],
      "execution_count": 0,
      "outputs": []
    },
    {
      "cell_type": "code",
      "metadata": {
        "id": "HWLFWJNPThJe",
        "colab_type": "code",
        "outputId": "2eb9dff3-e365-47e3-d75c-e55dab3745d5",
        "colab": {
          "base_uri": "https://localhost:8080/",
          "height": 34
        }
      },
      "source": [
        "from google.colab.patches import cv2_imshow\n",
        "import numpy as np\n",
        "import cv2\n",
        "\n",
        "def test_me():\n",
        "  print(\"This is a test.\")\n",
        "\n",
        "test_me()"
      ],
      "execution_count": 0,
      "outputs": [
        {
          "output_type": "stream",
          "text": [
            "This is a test.\n"
          ],
          "name": "stdout"
        }
      ]
    }
  ]
}