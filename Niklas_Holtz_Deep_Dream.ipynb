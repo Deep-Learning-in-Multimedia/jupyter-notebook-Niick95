{
  "nbformat": 4,
  "nbformat_minor": 0,
  "metadata": {
    "colab": {
      "name": "Niklas_Holtz_Deep_Dream.ipynb",
      "provenance": [],
      "collapsed_sections": [],
      "authorship_tag": "ABX9TyNnaIcld1RYtrfOi6IgMdYv",
      "include_colab_link": true
    },
    "kernelspec": {
      "name": "python3",
      "display_name": "Python 3"
    }
  },
  "cells": [
    {
      "cell_type": "markdown",
      "metadata": {
        "id": "view-in-github",
        "colab_type": "text"
      },
      "source": [
        "<a href=\"https://colab.research.google.com/github/Deep-Learning-in-Multimedia/jupyter-notebook-Niick95/blob/master/Niklas_Holtz_Deep_Dream.ipynb\" target=\"_parent\"><img src=\"https://colab.research.google.com/assets/colab-badge.svg\" alt=\"Open In Colab\"/></a>"
      ]
    },
    {
      "cell_type": "markdown",
      "metadata": {
        "id": "ruZT76BhQh1r",
        "colab_type": "text"
      },
      "source": [
        " # Deep Dream\n",
        " \n",
        " A 'Deep Learning in Multimedia' project by Niklas Holtz (Master Informatik), summer term 2020.\n",
        " \n",
        " ## What is Deep Dream?\n",
        " \n",
        "DeepDream is software that is based on *artificial neural networks* and was first developed and published by Google employee Alexander Mordvintsev. *Convolutional Neural Networks (**CNN**)* are used, which are actually used to recognize and classify content. However, it is used here to insert structures in the image that look similar to those of the trained neural network.\n",
        "\n",
        "Here you can see a painting that was expanded by a CNN with different structures. The CNN was trained to detect birds.\n",
        "![A \"deep dream\" picture with a network trained on birds.](https://b2h3x3f6.stackpathcdn.com/assets/landing/img/gallery/4.jpg)\n",
        "\n",
        "## How it works\n",
        "\n",
        "The *Deep Dream* is based on CNNs that have already been trained using sample images so that they can correctly recognize the objects mapped in their data set. Instead of recognizing the object of the input image, the CNN is used to change the image through selected layers.\n",
        "\n",
        "### What is a CNN?\n",
        "\n",
        "A CNN consists of several *convolutional layers*, followed by a *pooling layer*. This combination can be repeated any number of times, which is why this is also known as **deep learning**. Small filter matrices are pushed over the image in the convolution layer. The pooling layer then filters unnecessary information and reduces the image. Finally, there is usually a fully connected layer that classifies the recognized objects.\n",
        "\n",
        "Different matrices are created for each layer of the image, which reflect the neuronal activity. The deeper a layer is, the more special the matrices are. Upper layers therefore mostly contain only vague structures, while lower layers can already contain parts that are recognizable to humans.\n",
        "\n",
        "\n",
        "![CNN Overview](https://www.mdpi.com/electronics/electronics-08-00105/article_deploy/html/images/electronics-08-00105-g003-550.jpg)\n",
        "\n",
        "![Deep Visualization](https://www.mdpi.com/electronics/electronics-08-00105/article_deploy/html/images/electronics-08-00105-g001.png)\n",
        "\n",
        "\n",
        "### Using CNNs to extend images\n",
        "\n",
        "The algorithm changes the input image until the CNN can recognize the image based on it's data set. During the expansion, different layers of the CNN can be selectively increased in order to obtain different results. In the following picture the algorithm with prioritization of upper layers was applied. As a result, various rough structures were inserted into the input image.\n",
        "\n",
        "![alt text](https://upload.wikimedia.org/wikipedia/commons/thumb/a/ac/Deep_Dream_of_Electric_Sheep.jpg/330px-Deep_Dream_of_Electric_Sheep.jpg)\n",
        " \n",
        "## Motivation and benefits\n",
        "\n",
        "The potential of what neural networks offer is considerable. But the deeper a network is, the more difficult it is to understand how the learning process works. **Deep visualization** is an important tool for debugging and optimizing models. Various methods are used to visualize, for example, the intermediate activations of the individual layers. *Deep Dream* is certainly a kind of art, but it also offers the possibility to adequately visualize the activation of the neurons of different layers in order to further optimize the network.\n",
        "\n",
        "## Goals / Milestones\n",
        "\n",
        "1.   **Train a CNN**. First of all, a trained CNN is required, which can already recognize objects of the data set. Input images from existing data sets should be used. Known data sets are, for example, NIST, Imagenet or MIRFLICKR.\n",
        "2.   **Implement the Deep Dream**. The deep dream algorithm is then to be implemented on the basis of the trained CNN. Keras is to be used as a deep learning library.\n",
        "\n",
        "\n",
        " "
      ]
    },
    {
      "cell_type": "code",
      "metadata": {
        "id": "Tgtery4JThIY",
        "colab_type": "code",
        "colab": {}
      },
      "source": [
        ""
      ],
      "execution_count": 0,
      "outputs": []
    },
    {
      "cell_type": "code",
      "metadata": {
        "id": "HWLFWJNPThJe",
        "colab_type": "code",
        "outputId": "2eb9dff3-e365-47e3-d75c-e55dab3745d5",
        "colab": {
          "base_uri": "https://localhost:8080/",
          "height": 34
        }
      },
      "source": [
        "from google.colab.patches import cv2_imshow\n",
        "import numpy as np\n",
        "import cv2\n",
        "import tensorflow as tf\n",
        "from tensorflow import keras\n",
        "\n",
        "def test_me():\n",
        "  print(\"This is a test.\")\n",
        "\n",
        "test_me()"
      ],
      "execution_count": 0,
      "outputs": [
        {
          "output_type": "stream",
          "text": [
            "This is a test.\n"
          ],
          "name": "stdout"
        }
      ]
    }
  ]
}